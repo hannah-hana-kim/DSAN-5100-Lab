{
  "cells": [
    {
      "cell_type": "raw",
      "metadata": {},
      "source": [
        "---\n",
        "title: \"Lab-4: Assignment\"\n",
        "author: \"Dr. Purna Gamage\"\n",
        "\n",
        "format: \n",
        "  html: \n",
        "    embed-resources: true\n",
        "---"
      ]
    },
    {
      "cell_type": "markdown",
      "metadata": {},
      "source": [
        "## Problem 1:\n",
        "\n",
        "Use simulation to answer the following questions.\n",
        "\n",
        "Given independent uniform random variables $X_1 \\sim U(a, b)$ and $X_2 \\sim U(a,b)$. (You can use parameters of your choice)\n",
        "\n",
        "a. Is the distribution of $X_1 +X_2$ uniform? Please Justify your answer.\n",
        "\n",
        "b. Is the distribution of $X_1.X_2$ uniform? Please Justify your answer.\n",
        "\n",
        "c. Is the distribution of $max(X_1, X_2)$ or $min(X_1, X_2)$ uniform? Please Justify your answer.\n",
        "\n",
        "d. Is the distribution of $1-X_1$ uniform? Please Justify your answer."
      ]
    },
    {
      "cell_type": "markdown",
      "metadata": {},
      "source": []
    },
    {
      "cell_type": "markdown",
      "metadata": {},
      "source": [
        "## Problem 2:\n",
        "\n",
        "Validate the following theorems using simulation. (You can use parameters of your choice)\n",
        "\n",
        "`optional`: In addition to the simulation, you can also prove these theorems analytically, i.e. with pen and paper, if you want.\n",
        "\n",
        "a. Linear Transformations \n",
        "\n",
        "\n",
        "**Theorem-5.6.4:** If $X$ has the normal distribution with mean $\\mu$ and variance $\\sigma^2$ and if $Y=a X+b$, 5.6.4 where $a$ and $b$ are given constants and $a \\neq 0$, then $Y$ has the normal distribution with mean $a \\mu+b$ and variance $a^2 \\sigma^2$.\n",
        "\n",
        "\n",
        "b. Linear Combinations of Normally Distributed Variables\n",
        "\n",
        "**Theorem-5.6.7:**  If the random variables $X_1, \\ldots, X_k$ are independent and if $X_i$ has the normal distribution with mean $\\mu_i$ and variance $\\sigma_i^2(i=1, \\ldots, k)$, then the sum $X_1+\\cdots+X_k$ has the normal distribution with mean $\\mu_1+\\cdots+\\mu_k$ and variance $\\sigma_1^2+\\cdots+\\sigma_k^2$."
      ]
    },
    {
      "cell_type": "code",
      "execution_count": 1,
      "metadata": {},
      "outputs": [],
      "source": [
        "import numpy as np"
      ]
    },
    {
      "cell_type": "code",
      "execution_count": null,
      "metadata": {},
      "outputs": [],
      "source": [
        "mu = 10\n",
        "sig = 2\n",
        "a = 3\n",
        "b = 5\n",
        "\n",
        "sim = 10000\n",
        "X = np.random.normal(mu, sig, sim)\n",
        "Y = a*X + b\n",
        "\n",
        "mean_1 = a*mu + b\n",
        "var_1 = a**2 * sig**2\n",
        "\n",
        "mean_2 = np.mean(Y)\n",
        "var_2 = np.var(Y)\n",
        "\n"
      ]
    },
    {
      "cell_type": "markdown",
      "metadata": {},
      "source": [
        "## Problem 3: \n",
        "\n",
        "Use the iris data set to check the normality of Sepal width of setosa using the following normality tests (Repeat the steps  in the example 3 in lab 4, comment  on your results)\n",
        "\n",
        "a. Anderson Darling Test\n",
        "\n",
        "b. Kolmogorov-Smirnov Test (Comapre to a standard normal distribution)\n"
      ]
    },
    {
      "cell_type": "code",
      "execution_count": null,
      "metadata": {},
      "outputs": [],
      "source": []
    },
    {
      "cell_type": "markdown",
      "metadata": {},
      "source": [
        "## Problem 4: (optional)\n",
        "\n",
        "`Exponential Distribution`\n",
        "\n",
        "Given exponentially distributed random variables $X_1, . . . , X_k$ . Think of waiting times for independent random alarm clocks $1,...,k$ to go off.\n",
        "\n",
        "Which of these are again exponentially distributed? Explore with a simulation.\n",
        "(Hint: you can use many methods here to compare the distributions, for example; using Kolmogorov-Smirnov Test, plotting cdfs or ecdfs(as we did in lab 3),..etc )\n",
        "\n",
        "a. Distribution of $min(X_1,\\dots,X_k)$? Waiting time for the first alarm to go off.\n",
        "\n",
        "b. Distribution of $max(X_1, \\dots, X_k )$? Waiting time for the last alarm to go off.\n",
        "\n",
        "c. Distribution of $X_1 + \\dots + X_k$ ? Waiting time until Start of the next clock when the previous alarm/s has gone off."
      ]
    }
  ],
  "metadata": {
    "kernelspec": {
      "display_name": "Python 3 (ipykernel)",
      "language": "python",
      "name": "python3"
    },
    "language_info": {
      "codemirror_mode": {
        "name": "ipython",
        "version": 3
      },
      "file_extension": ".py",
      "mimetype": "text/x-python",
      "name": "python",
      "nbconvert_exporter": "python",
      "pygments_lexer": "ipython3",
      "version": "3.11.5"
    }
  },
  "nbformat": 4,
  "nbformat_minor": 4
}
