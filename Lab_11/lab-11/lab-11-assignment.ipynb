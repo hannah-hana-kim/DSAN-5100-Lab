{
  "cells": [
    {
      "cell_type": "raw",
      "metadata": {},
      "source": [
        "---\n",
        "title: \"Lab-11: Assignment\"\n",
        "author: \"Dr. Purna Gamage\"\n",
        "format: \n",
        "  html: \n",
        "    embed-resources: true\n",
        "---"
      ]
    },
    {
      "cell_type": "markdown",
      "metadata": {},
      "source": [
        "## Problem 1-2 will be answered using the \"Artists.csv\"  data set.\n",
        "\n",
        "### Please find the \"Artists.csv\"  data set in the Canvas-> Lab 10 folder.\n",
        "\n",
        "Meanwhile, this is how you can retrieve Spotify Data:\n",
        "\n",
        "Spotify’s API gives you the ability to extract several audio features of a song. The available features that also have been used for this analysis are: <https://medium.com/@boplantinga/what-do-spotifys-audio-features-tell-us-about-this-year-s-eurovision-song-contest-66ad188e112a>\n",
        "\n",
        "The first step was registering my application in the API Website(<https://developer.spotify.com/documentation/web-api/>) and getting the keys (Client ID and Client Secret) for future requests. The Spotify Web API has different URIs (Uniform Resource Identifiers) to access playlists, artists, or tracks information. \n",
        "\n",
        "I extracted all the audio features for 3 musicians Taylor Swift, John Legend and Beyonce. But we are only going to use  selected features.\n",
        "\n",
        "(If you like to use this data for your Final Project, you are more than welcome to :), but please extract more features from more musicians)"
      ]
    },
    {
      "cell_type": "code",
      "metadata": {},
      "source": [
        "library(Rspotify)\n",
        "library(httr)\n",
        "library(jsonlite)\n",
        "library(spotifyr) #spotifyr is an R wrapper for pulling track audio features and other information from Spotify’s Web API in bulk.\n",
        "\n",
        "my_token <- get_spotify_api_token(client_id = \"d5f54749964f4a12b7a3dd6a42767e58\", \n",
        "                                  client_secret = \"5534b841c00d47f6879abfec2042f38a\") # you have to register and get your keys\n",
        "\n",
        "#or\n",
        "get_spotify_access_token(\n",
        "  client_id = Sys.getenv(SPOTIFY_CLIENT_ID),\n",
        "  client_secret = Sys.getenv(SPOTIFY_CLIENT_SECRET)\n",
        ")\n",
        "\n",
        "\n",
        "#You can get much more details here\n",
        "#https://cran.r-project.org/web/packages/spotidy/vignettes/Connecting-with-the-Spotify-API.html\n",
        "\n",
        "\n",
        "Taylor_Swift <- get_artist_audio_features(\"Taylor Swift\")\n",
        "John_Legend <- get_artist_audio_features(\"John Legend\")\n",
        "Beyonce <- get_artist_audio_features(\"Beyonce\")\n",
        "\n",
        "## You can also access the variables by indexes, but the names are here to see what I'm retreiving\n",
        "\n",
        "Taylor_Swift_A <-data.frame(Taylor_Swift$artist_name,Taylor_Swift$valence,\n",
        "                            Taylor_Swift$danceability,Taylor_Swift$energy,Taylor_Swift$loudness,\n",
        "                            Taylor_Swift$speechiness,Taylor_Swift$acousticness,Taylor_Swift$liveness,\n",
        "                            Taylor_Swift$tempo,Taylor_Swift$track_name, Taylor_Swift$album_name,Taylor_Swift$album_release_year)\n",
        "colnames(Taylor_Swift_A) <- c(\"artist_name\",\"Valence\",\"danceability\",\"energy\",\n",
        "                              \"loudness\",\"speechiness\",\"acousticness\",\"liveness\",\n",
        "                              \"tempo\",\"track_name\",\"album_name\",\"album_release_year\")\n",
        "head(Taylor_Swift_A)\n",
        "\n",
        "\n",
        "John_Legend_A <-data.frame(John_Legend$artist_name,John_Legend$valence,\n",
        "                            John_Legend$danceability,John_Legend$energy,John_Legend$loudness,\n",
        "                            John_Legend$speechiness,John_Legend$acousticness,John_Legend$liveness,\n",
        "                            John_Legend$tempo,John_Legend$track_name, John_Legend$album_name,John_Legend$album_release_year)\n",
        "\n",
        "colnames(John_Legend_A) <- c(\"artist_name\",\"alence\",\"danceability\",\"energy\",\n",
        "                              \"loudness\",\"speechiness\",\"acousticness\",\"liveness\",\n",
        "                              \"tempo\",\"track_name\",\"album_name\",\"album_release_year\")\n",
        "head(John_Legend_A)\n",
        "\n",
        "\n",
        "Beyonce_A <-data.frame(Beyonce$artist_name,Beyonce$valence,\n",
        "                       Beyonce$danceability,Beyonce$energy,Beyonce$loudness,\n",
        "                       Beyonce$speechiness,Beyonce$acousticness,Beyonce$liveness,\n",
        "                       Beyonce$tempo,Beyonce$track_name, Beyonce$album_name, Beyonce$album_release_year)\n",
        "\n",
        "colnames(Beyonce_A) <- c(\"artist_name\",\"Valence\",\"danceability\",\"energy\",\n",
        "                             \"loudness\",\"speechiness\",\"acousticness\",\"liveness\",\n",
        "                             \"tempo\",\"track_name\",\"album_name\",\"album_release_year\")\n",
        "head(Beyonce_A)\n",
        "\n",
        "\n",
        "Artists <-rbind(Taylor_Swift_A,John_Legend_A, Beyonce_A)\n",
        "head(Artists)\n",
        "write.csv(Artists, \"Artists.csv\")"
      ],
      "execution_count": null,
      "outputs": []
    },
    {
      "cell_type": "markdown",
      "metadata": {},
      "source": [
        "You can download the data set \"Artists.csv\" from Canvas->\"Midterm\" Folder."
      ]
    },
    {
      "cell_type": "code",
      "metadata": {},
      "source": [
        "library(ggplot2)\n",
        "library(ggExtra)\n",
        "library(tidyverse)\n",
        "library(plotly)\n",
        "library(dplyr)\n",
        "library(knitr)"
      ],
      "execution_count": null,
      "outputs": []
    },
    {
      "cell_type": "code",
      "metadata": {},
      "source": [
        "artists <- read_csv('Artists.csv')\n",
        "head(artists)"
      ],
      "execution_count": null,
      "outputs": []
    },
    {
      "cell_type": "markdown",
      "metadata": {},
      "source": [
        "## Problem 1: Hypothesis Testing - part 1 \n",
        "\n",
        "Data Science Question: Does the average \"speechiness\" is larger for Taylor Swift than that of John Legend ?\n",
        "\n",
        "a. Perform EDA (Exploratory Data Analysis) using some Data Visualizations."
      ]
    },
    {
      "cell_type": "code",
      "metadata": {},
      "source": [
        "# histogram\n",
        "taylor <- artists[artists$artist_name=='Taylor Swift',]\n",
        "hist(taylor$speechiness, main = 'Speechiness of Taylor Swift')\n",
        "\n",
        "legend <- artists[artists$artist_name=='John Legend',]\n",
        "hist(legend$speechiness, main = 'Speechiness of John Legend')\n",
        "\n",
        "# boxplot\n",
        "artists %>%\n",
        "  ggplot( aes(x = artist_name, y = speechiness)) +\n",
        "  geom_boxplot() +ggtitle('Speechiness of the artists')\n",
        "\n",
        "# density plot\n",
        "t_speechiness<- density(taylor$speechiness)\n",
        "plot(t_speechiness, frame = FALSE, col = 'blue', main = 'Density plot of Taylor Swift Speechiness')\n",
        "\n",
        "j_speechiness<- density(legend$speechiness)\n",
        "plot(j_speechiness, frame = FALSE, col = 'blue', main = 'Density plot of John Legend Speechiness')\n",
        "\n",
        "# QQ plot\n",
        "qqnorm(taylor$speechiness)\n",
        "qqline(taylor$speechiness)\n",
        "\n",
        "qqnorm(legend$speechiness)\n",
        "qqline(legend$speechiness)"
      ],
      "execution_count": null,
      "outputs": []
    },
    {
      "cell_type": "markdown",
      "metadata": {},
      "source": [
        "b. Write the null and alternative hypothesis for this test.\n",
        "\n",
        "__Null Hypothesis(H0): The average 'speechiness' of Taylor Swift is equal to that of John Legend.__\n",
        "\n",
        "__Alternative Hypothesis(H1): The average speechiness is significantly greater for Taylor Swift than that of John Legend.__\n",
        "\n",
        "c. Perform a t-test and state your results and non-technical conclusion.\n",
        "\n",
        "#### Performing t-test"
      ]
    },
    {
      "cell_type": "code",
      "metadata": {},
      "source": [
        "ts_speechiness <- artists$speechiness[artists$artist_name == 'Taylor Swift']\n",
        "jl_speechiness <- artists$speechiness[artists$artist_name == 'John Legend']\n",
        "\n",
        "t_test_result <- t.test(ts_speechiness, jl_speechiness, alternative = 'greater')\n",
        "\n",
        "t_test_result"
      ],
      "execution_count": null,
      "outputs": []
    },
    {
      "cell_type": "markdown",
      "metadata": {},
      "source": [
        "#### Stating results\n",
        "\n",
        "A 't-test' is a statistical test that is used to compare the means of two groups. \n",
        "\n",
        "The `t.test` function provides \n",
        "\n",
        "1. an explanation of what is being compared, called `data` in the table: in this case, the test compared Taylor Swift's speechiness and John Legend's speechiness. \n",
        "\n",
        "2. a t-value that indicates the direction of the difference and it is 1.9578 in our case: since the t-value is positive, this means Taylor Swift's speechiness has higher average than that of John Legend's.\n",
        "\n",
        "3. a df, which is degree of freedom. This value shows how many free data points are available in your test for making comparisons. The greater the degrees of freedom, the better the statistical test will work. We got 576.99 of degree of freedom which means our statistical test works very well. \n",
        "\n",
        "4. a p-value: Based on the p-value we have, we can decide whether to reject the hypothesis or not. In our case, we got 0.025 of p-value. The p-value is small enough for us to reject the null hypothesis. \n",
        "\n",
        "#### Non-technical Conclusion\n",
        "\n",
        "Given the value of significance level of 0.05, we can decide to reject the null hypothesis. That is, the test result indicates that the average of Taylor Swift's speechiness is greater than that of John Legend. \n",
        "\n",
        "d. What can you say about the confidence interval? (Interpret)\n",
        "\n",
        "95% confidence interval means that we have 95% chance of being right with the hypothesis, and 5% chance of being wrong. In our case, the confidence interval is 0.003044749. This means that we are 95% confident that the true difference in mean speechiness between the two groups lies above 0.003044749. \n",
        "\n",
        "As a result, we can interpret this data as the following: We are 95% confident that the true difference in mean speechiness between Taylor Swift and John Legend is greater than 0.003044749. The p-value is small enough to rejet the null hypothesis, indicating that there is a significant difference in the average of speechiness between the two groups. \n",
        "\n",
        "Given this confidence interval and the p-value, this data leads us to the fact that Taylor Swift's average speechiness is likely higher than that of John Legend.\n",
        "\n",
        "e. Perform a bootstrap test for ratio of means of \"speechiness\", Find the 95% bootstrap percentile interval for the ratio of means and write your conclusion. "
      ]
    },
    {
      "cell_type": "code",
      "metadata": {},
      "source": [
        "ratio <- mean(ts_speechiness) / mean(jl_speechiness)\n",
        "ratio"
      ],
      "execution_count": null,
      "outputs": []
    },
    {
      "cell_type": "code",
      "metadata": {},
      "source": [
        "bootstrap <- function(ts, jl, n = 1000) {\n",
        "  ratios <- numeric(n)\n",
        "  for (i in 1:n) {\n",
        "    sample1 <- sample(ts, replace = TRUE)\n",
        "    sample2 <- sample(jl, replace = TRUE)\n",
        "    ratios[i] <- mean(sample1) / mean(sample2)\n",
        "  }\n",
        "  return(ratios)\n",
        "}\n",
        "\n",
        "set.seed(123)  \n",
        "bootstrap_ratio <- bootstrap(ts_speechiness, jl_speechiness)\n",
        "\n",
        "# 95% bootstrap interval\n",
        "bootstrap_interval <- quantile(bootstrap_ratio, c(0.025, 0.975))\n",
        "bootstrap_interval"
      ],
      "execution_count": null,
      "outputs": []
    },
    {
      "cell_type": "markdown",
      "metadata": {},
      "source": [
        "f. What is the bootstrap estimate of the bias for the mean ratio?"
      ]
    },
    {
      "cell_type": "code",
      "metadata": {},
      "source": [
        "bias <- mean(bootstrap_ratio) - ratio\n",
        "bias"
      ],
      "execution_count": null,
      "outputs": []
    },
    {
      "cell_type": "markdown",
      "metadata": {},
      "source": [
        "g. Compare your results from part c) and part e).\n",
        "\n",
        "The result of c) t-test is \n",
        "\n",
        "- t = 1.9578, df = 576.99, p-value = 0.02537\n",
        "- Confidence Interval: (0.003044749, Inf)\n",
        "- mean of x = 0.11444837, mean of y = 0.09523882\n",
        "\n",
        "\n",
        "The result of e) bootstrap test is \n",
        "\n",
        "- ratio = 1.201699\n",
        "- 95% Bootstrap Percentile Interval: (0.9987683,1.4547429)\n",
        "- Bias for the Mean Ratio: 0.004550032\n",
        "\n",
        "\n",
        "Both methods, t-test and bootstrap test indicate that there is a difference in speechiness means between Taylor Swift and John Legend.\n",
        "\n",
        "## Problem 2: Hypothesis Testing-part 2 \n",
        "\n",
        "Data Science Question: Does \"Valence\" of the songs depends on the Artist?\n",
        "\n",
        "Valence: A measure from 0.0 to 1.0 describing the musical positiveness conveyed by a track. Tracks with high valence sound more positive (e.g. happy, cheerful, euphoric), while tracks with low valence sound more negative (e.g. sad, depressed, angry).\n",
        "\n",
        "a. Create a new variable with the name \" Valence_C\" and add it to the \"Artists\" data set. Fill this variable with values \"more positive\",\"Moderate\",\"more negative\" according to the value of \"Valence\" such that 0.8-1 is \"more positive\", 0.5-0.79 is \"Moderate\" and 0.0-0.49 is \"more negative\"."
      ]
    },
    {
      "cell_type": "code",
      "metadata": {},
      "source": [
        "artists$Valence_C <- 'moderate'\n",
        "artists$Valence_C[artists$Valence >= 0.8] <- 'more positive'\n",
        "artists$Valence_C[artists$Valence >= 0.79 & artists$Valence <= 0.5] <- 'moderate'\n",
        "artists$Valence_C[artists$Valence < 0.5] <- 'more negative'\n",
        "\n",
        "head(artists)"
      ],
      "execution_count": null,
      "outputs": []
    },
    {
      "cell_type": "markdown",
      "metadata": {},
      "source": [
        "b. Carry out an appropriate test to make an informed decision for the above data science question using this new created variable  \"Valence_C\". Don't forget to Write the null and alternative hypothesis.\n",
        "Does \"Valence\" of the songs depends on the Artist?\n",
        "\n",
        "#### Hypothesis\n",
        "\n",
        "__Null Hypothesis(H0): Valence of the songs does not depend on the Artist.__\n",
        "\n",
        "__Alternative Hypothesis(H1): There is a dependence between the 'Valence' of songs and the Artist.__\n",
        "\n",
        "\n",
        "#### Appropriate tests\n",
        "\n",
        "##### chi-square test"
      ]
    },
    {
      "cell_type": "code",
      "metadata": {},
      "source": [
        "# assign valence and valence_c variable\n",
        "ts_data <- artists[artists$artist_name == 'Taylor Swift', c('artist_name','Valence_C')]\n",
        "jl_data <- artists[artists$artist_name == 'John Legend', c('artist_name','Valence_C')]\n",
        "\n",
        "df <- as.data.frame(rbind(ts_data, jl_data))\n",
        "valence_count <- table(df)\n",
        "\n",
        "chi_square_test <- chisq.test(valence_count)\n",
        "print(chi_square_test)"
      ],
      "execution_count": null,
      "outputs": []
    },
    {
      "cell_type": "markdown",
      "metadata": {},
      "source": [
        "#### t-test"
      ]
    },
    {
      "cell_type": "code",
      "metadata": {},
      "source": [
        "ts_valence_c <- factor(ts_data$Valence_C, levels = c(\"more negative\", \"moderate\", \"more positive\"), labels = c(-1, 0, 1))\n",
        "jl_valence_c <- factor(jl_data$Valence_C, levels = c(\"more negative\", \"moderate\", \"more positive\"), labels = c(-1, 0, 1))\n",
        "\n",
        "ts_valence_c <- as.numeric(ts_valence_c)\n",
        "jl_valence_c <- as.numeric(jl_valence_c)\n",
        "\n",
        "t_test_result <- t.test(ts_valence_c, jl_valence_c)\n",
        "\n",
        "t_test_result"
      ],
      "execution_count": null,
      "outputs": []
    },
    {
      "cell_type": "markdown",
      "metadata": {},
      "source": [
        "c. What is your conclusion?\n",
        "\n",
        "Chi-squared test is an appropriate statistical test for categorical variables. Since the data contained categorical variables of 'most negative', 'moderate', 'most postive', we should use chi-squared test for this data. \n",
        "\n",
        "However, I also tried to cast the categorical type to a `factor` type and type-casted to numeric value and also tried a t-test.\n",
        "\n",
        "According to the result of chi-squared test, p-value is 0.002369 which is less than the significance level. So we can reject the null hypothesis, which also means that there is a significant dependency between the 'Valence' and the 'Artist'.\n",
        "\n",
        "The t-test also shows that we have enough evidence to reject the null hypothesis based on the p-value. P-value is less than the significance level, so we can say that there is a significant dependency between the 'Valence' and the 'Artist'.\n",
        "\n",
        "d. With your experience, what is your opinion about the conclusion you made in part c?\n",
        "\n",
        "I do think the value of valence depends on the artists. If there are more people who are fond of the artists, then they are more likely to consider their music as a positive way. On the other hand, if the artists has negative evaluation from the audience, they are more likely to have negative valence on their music. "
      ]
    }
  ],
  "metadata": {
    "kernelspec": {
      "name": "ir",
      "language": "R",
      "display_name": "R"
    }
  },
  "nbformat": 4,
  "nbformat_minor": 4
}