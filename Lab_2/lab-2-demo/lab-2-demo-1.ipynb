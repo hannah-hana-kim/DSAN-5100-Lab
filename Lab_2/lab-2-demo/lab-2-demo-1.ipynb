{
  "cells": [
    {
      "cell_type": "raw",
      "metadata": {},
      "source": [
        "---\n",
        "title: \"ANLY 511 Lab 2 Diary: Conditional Probability\"\n",
        "author: \"Dr. Purna Gamage\"\n",
        "---"
      ]
    },
    {
      "cell_type": "code",
      "execution_count": 21,
      "metadata": {
        "vscode": {
          "languageId": "r"
        }
      },
      "outputs": [],
      "source": [
        "# set seed for reproducibility\n",
        "set.seed(1009)"
      ]
    },
    {
      "cell_type": "markdown",
      "metadata": {},
      "source": [
        "_* Read: Dalgaard, 1.2.12 Conditional selection*_\n",
        "\n",
        "# Example 1 (Practice)\n",
        "\n",
        "Consider birth names of 2003.   \n",
        "\n",
        "1. Find P(first name is Evelyn)   \n",
        "\n",
        "2. P(first name is Evelyn | female)  \n",
        "\n",
        "3. P(female | first name is Evelyn)  \n"
      ]
    },
    {
      "cell_type": "code",
      "execution_count": 22,
      "metadata": {
        "vscode": {
          "languageId": "r"
        }
      },
      "outputs": [
        {
          "data": {
            "text/html": [
              "<table class=\"dataframe\">\n",
              "<caption>A data.frame: 6 x 3</caption>\n",
              "<thead>\n",
              "\t<tr><th></th><th scope=col>name</th><th scope=col>gender</th><th scope=col>count</th></tr>\n",
              "\t<tr><th></th><th scope=col>&lt;chr&gt;</th><th scope=col>&lt;chr&gt;</th><th scope=col>&lt;int&gt;</th></tr>\n",
              "</thead>\n",
              "<tbody>\n",
              "\t<tr><th scope=row>1</th><td>Emily  </td><td>F</td><td>25685</td></tr>\n",
              "\t<tr><th scope=row>2</th><td>Emma   </td><td>F</td><td>22701</td></tr>\n",
              "\t<tr><th scope=row>3</th><td>Madison</td><td>F</td><td>20197</td></tr>\n",
              "\t<tr><th scope=row>4</th><td>Hannah </td><td>F</td><td>17628</td></tr>\n",
              "\t<tr><th scope=row>5</th><td>Olivia </td><td>F</td><td>16142</td></tr>\n",
              "\t<tr><th scope=row>6</th><td>Abigail</td><td>F</td><td>15918</td></tr>\n",
              "</tbody>\n",
              "</table>\n"
            ],
            "text/latex": [
              "A data.frame: 6 x 3\n",
              "\\begin{tabular}{r|lll}\n",
              "  & name & gender & count\\\\\n",
              "  & <chr> & <chr> & <int>\\\\\n",
              "\\hline\n",
              "\t1 & Emily   & F & 25685\\\\\n",
              "\t2 & Emma    & F & 22701\\\\\n",
              "\t3 & Madison & F & 20197\\\\\n",
              "\t4 & Hannah  & F & 17628\\\\\n",
              "\t5 & Olivia  & F & 16142\\\\\n",
              "\t6 & Abigail & F & 15918\\\\\n",
              "\\end{tabular}\n"
            ],
            "text/markdown": [
              "\n",
              "A data.frame: 6 x 3\n",
              "\n",
              "| <!--/--> | name &lt;chr&gt; | gender &lt;chr&gt; | count &lt;int&gt; |\n",
              "|---|---|---|---|\n",
              "| 1 | Emily   | F | 25685 |\n",
              "| 2 | Emma    | F | 22701 |\n",
              "| 3 | Madison | F | 20197 |\n",
              "| 4 | Hannah  | F | 17628 |\n",
              "| 5 | Olivia  | F | 16142 |\n",
              "| 6 | Abigail | F | 15918 |\n",
              "\n"
            ],
            "text/plain": [
              "  name    gender count\n",
              "1 Emily   F      25685\n",
              "2 Emma    F      22701\n",
              "3 Madison F      20197\n",
              "4 Hannah  F      17628\n",
              "5 Olivia  F      16142\n",
              "6 Abigail F      15918"
            ]
          },
          "metadata": {},
          "output_type": "display_data"
        }
      ],
      "source": [
        "# read in the data, name the columns, and view the first few rows\n",
        "yob2003 <- read.csv(\"yob2003.txt\",header=FALSE, stringsAsFactors=FALSE)\n",
        "names(yob2003) <- c(\"name\",\"gender\",\"count\")\n",
        "head(yob2003)"
      ]
    },
    {
      "cell_type": "code",
      "execution_count": 23,
      "metadata": {
        "vscode": {
          "languageId": "r"
        }
      },
      "outputs": [
        {
          "data": {
            "text/html": [
              "0.000977152479748173"
            ],
            "text/latex": [
              "0.000977152479748173"
            ],
            "text/markdown": [
              "0.000977152479748173"
            ],
            "text/plain": [
              "[1] 0.0009771525"
            ]
          },
          "metadata": {},
          "output_type": "display_data"
        },
        {
          "data": {
            "text/html": [
              "0.00202699852467378"
            ],
            "text/latex": [
              "0.00202699852467378"
            ],
            "text/markdown": [
              "0.00202699852467378"
            ],
            "text/plain": [
              "[1] 0.002026999"
            ]
          },
          "metadata": {},
          "output_type": "display_data"
        },
        {
          "data": {
            "text/html": [
              "0.99676724137931"
            ],
            "text/latex": [
              "0.99676724137931"
            ],
            "text/markdown": [
              "0.99676724137931"
            ],
            "text/plain": [
              "[1] 0.9967672"
            ]
          },
          "metadata": {},
          "output_type": "display_data"
        }
      ],
      "source": [
        "# filter the data\n",
        "yob2003.Evelyn <- yob2003[yob2003$name == \"Evelyn\",] # Evelyn only\n",
        "yob2003.Evelyn.female <- yob2003.Evelyn[yob2003.Evelyn$gender == \"F\",] # Evelyn and Female\n",
        "yob2003.female <- yob2003[yob2003$gender == \"F\",] # Female only\n",
        "\n",
        " # 1. P(Evelyn)\n",
        "sum(yob2003.Evelyn$count)/sum(yob2003$count)\n",
        "\n",
        "# 2. P(Evelyn | female)\n",
        "sum(yob2003.Evelyn.female$count)/sum(yob2003.female$count) \n",
        "\n",
        "# 3. P(female | Evelyn)\n",
        "sum(yob2003.Evelyn.female$count)/sum(yob2003.Evelyn$count) "
      ]
    },
    {
      "cell_type": "markdown",
      "metadata": {},
      "source": [
        "# Example 2: Experiment: Deck of poker cards\n",
        "\n",
        "## a. Let's generate a deck of cards,"
      ]
    },
    {
      "cell_type": "code",
      "execution_count": 24,
      "metadata": {
        "vscode": {
          "languageId": "r"
        }
      },
      "outputs": [
        {
          "data": {
            "text/html": [
              "<table class=\"dataframe\">\n",
              "<caption>A data.frame: 52 x 2</caption>\n",
              "<thead>\n",
              "\t<tr><th scope=col>number</th><th scope=col>suit</th></tr>\n",
              "\t<tr><th scope=col>&lt;fct&gt;</th><th scope=col>&lt;fct&gt;</th></tr>\n",
              "</thead>\n",
              "<tbody>\n",
              "\t<tr><td>Ace  </td><td>Diamonds</td></tr>\n",
              "\t<tr><td>Two  </td><td>Diamonds</td></tr>\n",
              "\t<tr><td>Three</td><td>Diamonds</td></tr>\n",
              "\t<tr><td>Four </td><td>Diamonds</td></tr>\n",
              "\t<tr><td>Five </td><td>Diamonds</td></tr>\n",
              "\t<tr><td>Six  </td><td>Diamonds</td></tr>\n",
              "\t<tr><td>Seven</td><td>Diamonds</td></tr>\n",
              "\t<tr><td>Eight</td><td>Diamonds</td></tr>\n",
              "\t<tr><td>Nine </td><td>Diamonds</td></tr>\n",
              "\t<tr><td>Ten  </td><td>Diamonds</td></tr>\n",
              "\t<tr><td>Jack </td><td>Diamonds</td></tr>\n",
              "\t<tr><td>Queen</td><td>Diamonds</td></tr>\n",
              "\t<tr><td>King </td><td>Diamonds</td></tr>\n",
              "\t<tr><td>Ace  </td><td>Clubs   </td></tr>\n",
              "\t<tr><td>Two  </td><td>Clubs   </td></tr>\n",
              "\t<tr><td>Three</td><td>Clubs   </td></tr>\n",
              "\t<tr><td>Four </td><td>Clubs   </td></tr>\n",
              "\t<tr><td>Five </td><td>Clubs   </td></tr>\n",
              "\t<tr><td>Six  </td><td>Clubs   </td></tr>\n",
              "\t<tr><td>Seven</td><td>Clubs   </td></tr>\n",
              "\t<tr><td>Eight</td><td>Clubs   </td></tr>\n",
              "\t<tr><td>Nine </td><td>Clubs   </td></tr>\n",
              "\t<tr><td>Ten  </td><td>Clubs   </td></tr>\n",
              "\t<tr><td>Jack </td><td>Clubs   </td></tr>\n",
              "\t<tr><td>Queen</td><td>Clubs   </td></tr>\n",
              "\t<tr><td>King </td><td>Clubs   </td></tr>\n",
              "\t<tr><td>Ace  </td><td>Hearts  </td></tr>\n",
              "\t<tr><td>Two  </td><td>Hearts  </td></tr>\n",
              "\t<tr><td>Three</td><td>Hearts  </td></tr>\n",
              "\t<tr><td>Four </td><td>Hearts  </td></tr>\n",
              "\t<tr><td>Five </td><td>Hearts  </td></tr>\n",
              "\t<tr><td>Six  </td><td>Hearts  </td></tr>\n",
              "\t<tr><td>Seven</td><td>Hearts  </td></tr>\n",
              "\t<tr><td>Eight</td><td>Hearts  </td></tr>\n",
              "\t<tr><td>Nine </td><td>Hearts  </td></tr>\n",
              "\t<tr><td>Ten  </td><td>Hearts  </td></tr>\n",
              "\t<tr><td>Jack </td><td>Hearts  </td></tr>\n",
              "\t<tr><td>Queen</td><td>Hearts  </td></tr>\n",
              "\t<tr><td>King </td><td>Hearts  </td></tr>\n",
              "\t<tr><td>Ace  </td><td>Spades  </td></tr>\n",
              "\t<tr><td>Two  </td><td>Spades  </td></tr>\n",
              "\t<tr><td>Three</td><td>Spades  </td></tr>\n",
              "\t<tr><td>Four </td><td>Spades  </td></tr>\n",
              "\t<tr><td>Five </td><td>Spades  </td></tr>\n",
              "\t<tr><td>Six  </td><td>Spades  </td></tr>\n",
              "\t<tr><td>Seven</td><td>Spades  </td></tr>\n",
              "\t<tr><td>Eight</td><td>Spades  </td></tr>\n",
              "\t<tr><td>Nine </td><td>Spades  </td></tr>\n",
              "\t<tr><td>Ten  </td><td>Spades  </td></tr>\n",
              "\t<tr><td>Jack </td><td>Spades  </td></tr>\n",
              "\t<tr><td>Queen</td><td>Spades  </td></tr>\n",
              "\t<tr><td>King </td><td>Spades  </td></tr>\n",
              "</tbody>\n",
              "</table>\n"
            ],
            "text/latex": [
              "A data.frame: 52 x 2\n",
              "\\begin{tabular}{ll}\n",
              " number & suit\\\\\n",
              " <fct> & <fct>\\\\\n",
              "\\hline\n",
              "\t Ace   & Diamonds\\\\\n",
              "\t Two   & Diamonds\\\\\n",
              "\t Three & Diamonds\\\\\n",
              "\t Four  & Diamonds\\\\\n",
              "\t Five  & Diamonds\\\\\n",
              "\t Six   & Diamonds\\\\\n",
              "\t Seven & Diamonds\\\\\n",
              "\t Eight & Diamonds\\\\\n",
              "\t Nine  & Diamonds\\\\\n",
              "\t Ten   & Diamonds\\\\\n",
              "\t Jack  & Diamonds\\\\\n",
              "\t Queen & Diamonds\\\\\n",
              "\t King  & Diamonds\\\\\n",
              "\t Ace   & Clubs   \\\\\n",
              "\t Two   & Clubs   \\\\\n",
              "\t Three & Clubs   \\\\\n",
              "\t Four  & Clubs   \\\\\n",
              "\t Five  & Clubs   \\\\\n",
              "\t Six   & Clubs   \\\\\n",
              "\t Seven & Clubs   \\\\\n",
              "\t Eight & Clubs   \\\\\n",
              "\t Nine  & Clubs   \\\\\n",
              "\t Ten   & Clubs   \\\\\n",
              "\t Jack  & Clubs   \\\\\n",
              "\t Queen & Clubs   \\\\\n",
              "\t King  & Clubs   \\\\\n",
              "\t Ace   & Hearts  \\\\\n",
              "\t Two   & Hearts  \\\\\n",
              "\t Three & Hearts  \\\\\n",
              "\t Four  & Hearts  \\\\\n",
              "\t Five  & Hearts  \\\\\n",
              "\t Six   & Hearts  \\\\\n",
              "\t Seven & Hearts  \\\\\n",
              "\t Eight & Hearts  \\\\\n",
              "\t Nine  & Hearts  \\\\\n",
              "\t Ten   & Hearts  \\\\\n",
              "\t Jack  & Hearts  \\\\\n",
              "\t Queen & Hearts  \\\\\n",
              "\t King  & Hearts  \\\\\n",
              "\t Ace   & Spades  \\\\\n",
              "\t Two   & Spades  \\\\\n",
              "\t Three & Spades  \\\\\n",
              "\t Four  & Spades  \\\\\n",
              "\t Five  & Spades  \\\\\n",
              "\t Six   & Spades  \\\\\n",
              "\t Seven & Spades  \\\\\n",
              "\t Eight & Spades  \\\\\n",
              "\t Nine  & Spades  \\\\\n",
              "\t Ten   & Spades  \\\\\n",
              "\t Jack  & Spades  \\\\\n",
              "\t Queen & Spades  \\\\\n",
              "\t King  & Spades  \\\\\n",
              "\\end{tabular}\n"
            ],
            "text/markdown": [
              "\n",
              "A data.frame: 52 x 2\n",
              "\n",
              "| number &lt;fct&gt; | suit &lt;fct&gt; |\n",
              "|---|---|\n",
              "| Ace   | Diamonds |\n",
              "| Two   | Diamonds |\n",
              "| Three | Diamonds |\n",
              "| Four  | Diamonds |\n",
              "| Five  | Diamonds |\n",
              "| Six   | Diamonds |\n",
              "| Seven | Diamonds |\n",
              "| Eight | Diamonds |\n",
              "| Nine  | Diamonds |\n",
              "| Ten   | Diamonds |\n",
              "| Jack  | Diamonds |\n",
              "| Queen | Diamonds |\n",
              "| King  | Diamonds |\n",
              "| Ace   | Clubs    |\n",
              "| Two   | Clubs    |\n",
              "| Three | Clubs    |\n",
              "| Four  | Clubs    |\n",
              "| Five  | Clubs    |\n",
              "| Six   | Clubs    |\n",
              "| Seven | Clubs    |\n",
              "| Eight | Clubs    |\n",
              "| Nine  | Clubs    |\n",
              "| Ten   | Clubs    |\n",
              "| Jack  | Clubs    |\n",
              "| Queen | Clubs    |\n",
              "| King  | Clubs    |\n",
              "| Ace   | Hearts   |\n",
              "| Two   | Hearts   |\n",
              "| Three | Hearts   |\n",
              "| Four  | Hearts   |\n",
              "| Five  | Hearts   |\n",
              "| Six   | Hearts   |\n",
              "| Seven | Hearts   |\n",
              "| Eight | Hearts   |\n",
              "| Nine  | Hearts   |\n",
              "| Ten   | Hearts   |\n",
              "| Jack  | Hearts   |\n",
              "| Queen | Hearts   |\n",
              "| King  | Hearts   |\n",
              "| Ace   | Spades   |\n",
              "| Two   | Spades   |\n",
              "| Three | Spades   |\n",
              "| Four  | Spades   |\n",
              "| Five  | Spades   |\n",
              "| Six   | Spades   |\n",
              "| Seven | Spades   |\n",
              "| Eight | Spades   |\n",
              "| Nine  | Spades   |\n",
              "| Ten   | Spades   |\n",
              "| Jack  | Spades   |\n",
              "| Queen | Spades   |\n",
              "| King  | Spades   |\n",
              "\n"
            ],
            "text/plain": [
              "   number suit    \n",
              "1  Ace    Diamonds\n",
              "2  Two    Diamonds\n",
              "3  Three  Diamonds\n",
              "4  Four   Diamonds\n",
              "5  Five   Diamonds\n",
              "6  Six    Diamonds\n",
              "7  Seven  Diamonds\n",
              "8  Eight  Diamonds\n",
              "9  Nine   Diamonds\n",
              "10 Ten    Diamonds\n",
              "11 Jack   Diamonds\n",
              "12 Queen  Diamonds\n",
              "13 King   Diamonds\n",
              "14 Ace    Clubs   \n",
              "15 Two    Clubs   \n",
              "16 Three  Clubs   \n",
              "17 Four   Clubs   \n",
              "18 Five   Clubs   \n",
              "19 Six    Clubs   \n",
              "20 Seven  Clubs   \n",
              "21 Eight  Clubs   \n",
              "22 Nine   Clubs   \n",
              "23 Ten    Clubs   \n",
              "24 Jack   Clubs   \n",
              "25 Queen  Clubs   \n",
              "26 King   Clubs   \n",
              "27 Ace    Hearts  \n",
              "28 Two    Hearts  \n",
              "29 Three  Hearts  \n",
              "30 Four   Hearts  \n",
              "31 Five   Hearts  \n",
              "32 Six    Hearts  \n",
              "33 Seven  Hearts  \n",
              "34 Eight  Hearts  \n",
              "35 Nine   Hearts  \n",
              "36 Ten    Hearts  \n",
              "37 Jack   Hearts  \n",
              "38 Queen  Hearts  \n",
              "39 King   Hearts  \n",
              "40 Ace    Spades  \n",
              "41 Two    Spades  \n",
              "42 Three  Spades  \n",
              "43 Four   Spades  \n",
              "44 Five   Spades  \n",
              "45 Six    Spades  \n",
              "46 Seven  Spades  \n",
              "47 Eight  Spades  \n",
              "48 Nine   Spades  \n",
              "49 Ten    Spades  \n",
              "50 Jack   Spades  \n",
              "51 Queen  Spades  \n",
              "52 King   Spades  "
            ]
          },
          "metadata": {},
          "output_type": "display_data"
        },
        {
          "data": {
            "text/html": [
              "<style>\n",
              ".list-inline {list-style: none; margin:0; padding: 0}\n",
              ".list-inline>li {display: inline-block}\n",
              ".list-inline>li:not(:last-child)::after {content: \"\\00b7\"; padding: 0 .5ex}\n",
              "</style>\n",
              "<ol class=list-inline><li>'Ace Diamonds'</li><li>'Two Diamonds'</li><li>'Three Diamonds'</li><li>'Four Diamonds'</li><li>'Five Diamonds'</li><li>'Six Diamonds'</li><li>'Seven Diamonds'</li><li>'Eight Diamonds'</li><li>'Nine Diamonds'</li><li>'Ten Diamonds'</li><li>'Jack Diamonds'</li><li>'Queen Diamonds'</li><li>'King Diamonds'</li><li>'Ace Clubs'</li><li>'Two Clubs'</li><li>'Three Clubs'</li><li>'Four Clubs'</li><li>'Five Clubs'</li><li>'Six Clubs'</li><li>'Seven Clubs'</li><li>'Eight Clubs'</li><li>'Nine Clubs'</li><li>'Ten Clubs'</li><li>'Jack Clubs'</li><li>'Queen Clubs'</li><li>'King Clubs'</li><li>'Ace Hearts'</li><li>'Two Hearts'</li><li>'Three Hearts'</li><li>'Four Hearts'</li><li>'Five Hearts'</li><li>'Six Hearts'</li><li>'Seven Hearts'</li><li>'Eight Hearts'</li><li>'Nine Hearts'</li><li>'Ten Hearts'</li><li>'Jack Hearts'</li><li>'Queen Hearts'</li><li>'King Hearts'</li><li>'Ace Spades'</li><li>'Two Spades'</li><li>'Three Spades'</li><li>'Four Spades'</li><li>'Five Spades'</li><li>'Six Spades'</li><li>'Seven Spades'</li><li>'Eight Spades'</li><li>'Nine Spades'</li><li>'Ten Spades'</li><li>'Jack Spades'</li><li>'Queen Spades'</li><li>'King Spades'</li></ol>\n"
            ],
            "text/latex": [
              "\\begin{enumerate*}\n",
              "\\item 'Ace Diamonds'\n",
              "\\item 'Two Diamonds'\n",
              "\\item 'Three Diamonds'\n",
              "\\item 'Four Diamonds'\n",
              "\\item 'Five Diamonds'\n",
              "\\item 'Six Diamonds'\n",
              "\\item 'Seven Diamonds'\n",
              "\\item 'Eight Diamonds'\n",
              "\\item 'Nine Diamonds'\n",
              "\\item 'Ten Diamonds'\n",
              "\\item 'Jack Diamonds'\n",
              "\\item 'Queen Diamonds'\n",
              "\\item 'King Diamonds'\n",
              "\\item 'Ace Clubs'\n",
              "\\item 'Two Clubs'\n",
              "\\item 'Three Clubs'\n",
              "\\item 'Four Clubs'\n",
              "\\item 'Five Clubs'\n",
              "\\item 'Six Clubs'\n",
              "\\item 'Seven Clubs'\n",
              "\\item 'Eight Clubs'\n",
              "\\item 'Nine Clubs'\n",
              "\\item 'Ten Clubs'\n",
              "\\item 'Jack Clubs'\n",
              "\\item 'Queen Clubs'\n",
              "\\item 'King Clubs'\n",
              "\\item 'Ace Hearts'\n",
              "\\item 'Two Hearts'\n",
              "\\item 'Three Hearts'\n",
              "\\item 'Four Hearts'\n",
              "\\item 'Five Hearts'\n",
              "\\item 'Six Hearts'\n",
              "\\item 'Seven Hearts'\n",
              "\\item 'Eight Hearts'\n",
              "\\item 'Nine Hearts'\n",
              "\\item 'Ten Hearts'\n",
              "\\item 'Jack Hearts'\n",
              "\\item 'Queen Hearts'\n",
              "\\item 'King Hearts'\n",
              "\\item 'Ace Spades'\n",
              "\\item 'Two Spades'\n",
              "\\item 'Three Spades'\n",
              "\\item 'Four Spades'\n",
              "\\item 'Five Spades'\n",
              "\\item 'Six Spades'\n",
              "\\item 'Seven Spades'\n",
              "\\item 'Eight Spades'\n",
              "\\item 'Nine Spades'\n",
              "\\item 'Ten Spades'\n",
              "\\item 'Jack Spades'\n",
              "\\item 'Queen Spades'\n",
              "\\item 'King Spades'\n",
              "\\end{enumerate*}\n"
            ],
            "text/markdown": [
              "1. 'Ace Diamonds'\n",
              "2. 'Two Diamonds'\n",
              "3. 'Three Diamonds'\n",
              "4. 'Four Diamonds'\n",
              "5. 'Five Diamonds'\n",
              "6. 'Six Diamonds'\n",
              "7. 'Seven Diamonds'\n",
              "8. 'Eight Diamonds'\n",
              "9. 'Nine Diamonds'\n",
              "10. 'Ten Diamonds'\n",
              "11. 'Jack Diamonds'\n",
              "12. 'Queen Diamonds'\n",
              "13. 'King Diamonds'\n",
              "14. 'Ace Clubs'\n",
              "15. 'Two Clubs'\n",
              "16. 'Three Clubs'\n",
              "17. 'Four Clubs'\n",
              "18. 'Five Clubs'\n",
              "19. 'Six Clubs'\n",
              "20. 'Seven Clubs'\n",
              "21. 'Eight Clubs'\n",
              "22. 'Nine Clubs'\n",
              "23. 'Ten Clubs'\n",
              "24. 'Jack Clubs'\n",
              "25. 'Queen Clubs'\n",
              "26. 'King Clubs'\n",
              "27. 'Ace Hearts'\n",
              "28. 'Two Hearts'\n",
              "29. 'Three Hearts'\n",
              "30. 'Four Hearts'\n",
              "31. 'Five Hearts'\n",
              "32. 'Six Hearts'\n",
              "33. 'Seven Hearts'\n",
              "34. 'Eight Hearts'\n",
              "35. 'Nine Hearts'\n",
              "36. 'Ten Hearts'\n",
              "37. 'Jack Hearts'\n",
              "38. 'Queen Hearts'\n",
              "39. 'King Hearts'\n",
              "40. 'Ace Spades'\n",
              "41. 'Two Spades'\n",
              "42. 'Three Spades'\n",
              "43. 'Four Spades'\n",
              "44. 'Five Spades'\n",
              "45. 'Six Spades'\n",
              "46. 'Seven Spades'\n",
              "47. 'Eight Spades'\n",
              "48. 'Nine Spades'\n",
              "49. 'Ten Spades'\n",
              "50. 'Jack Spades'\n",
              "51. 'Queen Spades'\n",
              "52. 'King Spades'\n",
              "\n",
              "\n"
            ],
            "text/plain": [
              " [1] \"Ace Diamonds\"   \"Two Diamonds\"   \"Three Diamonds\" \"Four Diamonds\" \n",
              " [5] \"Five Diamonds\"  \"Six Diamonds\"   \"Seven Diamonds\" \"Eight Diamonds\"\n",
              " [9] \"Nine Diamonds\"  \"Ten Diamonds\"   \"Jack Diamonds\"  \"Queen Diamonds\"\n",
              "[13] \"King Diamonds\"  \"Ace Clubs\"      \"Two Clubs\"      \"Three Clubs\"   \n",
              "[17] \"Four Clubs\"     \"Five Clubs\"     \"Six Clubs\"      \"Seven Clubs\"   \n",
              "[21] \"Eight Clubs\"    \"Nine Clubs\"     \"Ten Clubs\"      \"Jack Clubs\"    \n",
              "[25] \"Queen Clubs\"    \"King Clubs\"     \"Ace Hearts\"     \"Two Hearts\"    \n",
              "[29] \"Three Hearts\"   \"Four Hearts\"    \"Five Hearts\"    \"Six Hearts\"    \n",
              "[33] \"Seven Hearts\"   \"Eight Hearts\"   \"Nine Hearts\"    \"Ten Hearts\"    \n",
              "[37] \"Jack Hearts\"    \"Queen Hearts\"   \"King Hearts\"    \"Ace Spades\"    \n",
              "[41] \"Two Spades\"     \"Three Spades\"   \"Four Spades\"    \"Five Spades\"   \n",
              "[45] \"Six Spades\"     \"Seven Spades\"   \"Eight Spades\"   \"Nine Spades\"   \n",
              "[49] \"Ten Spades\"     \"Jack Spades\"    \"Queen Spades\"   \"King Spades\"   "
            ]
          },
          "metadata": {},
          "output_type": "display_data"
        }
      ],
      "source": [
        "# build a deck of cards (seen below)\n",
        "suits <- c(\"Diamonds\", \"Clubs\", \"Hearts\", \"Spades\")\n",
        "numbers <- c(\"Ace\", \"Two\", \"Three\", \"Four\", \"Five\", \"Six\", \"Seven\", \"Eight\", \"Nine\", \"Ten\", \"Jack\", \"Queen\", \"King\")\n",
        "(deck <- expand.grid(number=numbers, suit=suits)) #data frame from all combinations\n",
        "(deck <- paste(deck$number, deck$suit))"
      ]
    },
    {
      "cell_type": "markdown",
      "metadata": {},
      "source": [
        "## b.  Let's check the probability of getting the first card a Queen card (we know that it's 1/13)"
      ]
    },
    {
      "cell_type": "code",
      "execution_count": 25,
      "metadata": {
        "vscode": {
          "languageId": "r"
        }
      },
      "outputs": [
        {
          "data": {
            "text/html": [
              "<style>\n",
              ".list-inline {list-style: none; margin:0; padding: 0}\n",
              ".list-inline>li {display: inline-block}\n",
              ".list-inline>li:not(:last-child)::after {content: \"\\00b7\"; padding: 0 .5ex}\n",
              "</style>\n",
              "<ol class=list-inline><li>'Queen Diamonds'</li><li>'Queen Clubs'</li><li>'Queen Hearts'</li><li>'Queen Spades'</li></ol>\n"
            ],
            "text/latex": [
              "\\begin{enumerate*}\n",
              "\\item 'Queen Diamonds'\n",
              "\\item 'Queen Clubs'\n",
              "\\item 'Queen Hearts'\n",
              "\\item 'Queen Spades'\n",
              "\\end{enumerate*}\n"
            ],
            "text/markdown": [
              "1. 'Queen Diamonds'\n",
              "2. 'Queen Clubs'\n",
              "3. 'Queen Hearts'\n",
              "4. 'Queen Spades'\n",
              "\n",
              "\n"
            ],
            "text/plain": [
              "[1] \"Queen Diamonds\" \"Queen Clubs\"    \"Queen Hearts\"   \"Queen Spades\"  "
            ]
          },
          "metadata": {},
          "output_type": "display_data"
        },
        {
          "data": {
            "text/html": [
              "0.0769230769230769"
            ],
            "text/latex": [
              "0.0769230769230769"
            ],
            "text/markdown": [
              "0.0769230769230769"
            ],
            "text/plain": [
              "[1] 0.07692308"
            ]
          },
          "metadata": {},
          "output_type": "display_data"
        },
        {
          "data": {
            "text/html": [
              "0.0769230769230769"
            ],
            "text/latex": [
              "0.0769230769230769"
            ],
            "text/markdown": [
              "0.0769230769230769"
            ],
            "text/plain": [
              "[1] 0.07692308"
            ]
          },
          "metadata": {},
          "output_type": "display_data"
        }
      ],
      "source": [
        "# define the Queen cards\n",
        "(queens <- paste(\"Queen\", suits))\n",
        "\n",
        "# find how many cards in the deck are Queens\n",
        "mean(deck %in% queens)\n",
        "\n",
        "# result should be 4/52 = 1/13, so let's check\n",
        "1/13"
      ]
    },
    {
      "cell_type": "markdown",
      "metadata": {},
      "source": [
        "This means it works!!\n",
        "\n",
        "## c. Now, what is the conditional probability of the second card being a Queen given that the first was a Queen?\n",
        "\n",
        "If one Queen is already out of the deck, then there are 3 Queens left and 51 total cards left. So, this probability is 3/51. Let’s confirm by listing out all possible outcomes.\n",
        "\n",
        "To do this, we can use the permutations function from the \"gtools\" package. For any list of size `n`, this function computes all the different permutations we can get when we select `r` items. \n",
        "\n",
        "### NOTE: \"permutations\"\n",
        "\n",
        "Here are all the ways we can choose two numbers from a list consisting of 1,2,3:"
      ]
    },
    {
      "cell_type": "code",
      "execution_count": 26,
      "metadata": {
        "vscode": {
          "languageId": "r"
        }
      },
      "outputs": [
        {
          "data": {
            "text/html": [
              "<table class=\"dataframe\">\n",
              "<caption>A matrix: 6 x 2 of type int</caption>\n",
              "<tbody>\n",
              "\t<tr><td>1</td><td>2</td></tr>\n",
              "\t<tr><td>1</td><td>3</td></tr>\n",
              "\t<tr><td>2</td><td>1</td></tr>\n",
              "\t<tr><td>2</td><td>3</td></tr>\n",
              "\t<tr><td>3</td><td>1</td></tr>\n",
              "\t<tr><td>3</td><td>2</td></tr>\n",
              "</tbody>\n",
              "</table>\n"
            ],
            "text/latex": [
              "A matrix: 6 x 2 of type int\n",
              "\\begin{tabular}{ll}\n",
              "\t 1 & 2\\\\\n",
              "\t 1 & 3\\\\\n",
              "\t 2 & 1\\\\\n",
              "\t 2 & 3\\\\\n",
              "\t 3 & 1\\\\\n",
              "\t 3 & 2\\\\\n",
              "\\end{tabular}\n"
            ],
            "text/markdown": [
              "\n",
              "A matrix: 6 x 2 of type int\n",
              "\n",
              "| 1 | 2 |\n",
              "| 1 | 3 |\n",
              "| 2 | 1 |\n",
              "| 2 | 3 |\n",
              "| 3 | 1 |\n",
              "| 3 | 2 |\n",
              "\n"
            ],
            "text/plain": [
              "     [,1] [,2]\n",
              "[1,] 1    2   \n",
              "[2,] 1    3   \n",
              "[3,] 2    1   \n",
              "[4,] 2    3   \n",
              "[5,] 3    1   \n",
              "[6,] 3    2   "
            ]
          },
          "metadata": {},
          "output_type": "display_data"
        }
      ],
      "source": [
        "library(gtools)\n",
        "permutations(3, 2)"
      ]
    },
    {
      "cell_type": "markdown",
      "metadata": {},
      "source": [
        "Notice that the order matters here: 3,1 is different than 1,3. Also, note that (1,1), (2,2), and (3,3) do not appear because once we pick a number, it can’t appear again.\n",
        "\n",
        "Optionally, we can add a vector. If you want to see five random seven digit phone numbers out of all possible phone numbers (without repeats), you can type:"
      ]
    },
    {
      "cell_type": "code",
      "execution_count": 27,
      "metadata": {
        "vscode": {
          "languageId": "r"
        }
      },
      "outputs": [
        {
          "data": {
            "text/html": [
              "604800"
            ],
            "text/latex": [
              "604800"
            ],
            "text/markdown": [
              "604800"
            ],
            "text/plain": [
              "[1] 604800"
            ]
          },
          "metadata": {},
          "output_type": "display_data"
        },
        {
          "data": {
            "text/html": [
              "<style>\n",
              ".list-inline {list-style: none; margin:0; padding: 0}\n",
              ".list-inline>li {display: inline-block}\n",
              ".list-inline>li:not(:last-child)::after {content: \"\\00b7\"; padding: 0 .5ex}\n",
              "</style>\n",
              "<ol class=list-inline><li>254598</li><li>138510</li><li>115335</li><li>495466</li><li>536734</li></ol>\n"
            ],
            "text/latex": [
              "\\begin{enumerate*}\n",
              "\\item 254598\n",
              "\\item 138510\n",
              "\\item 115335\n",
              "\\item 495466\n",
              "\\item 536734\n",
              "\\end{enumerate*}\n"
            ],
            "text/markdown": [
              "1. 254598\n",
              "2. 138510\n",
              "3. 115335\n",
              "4. 495466\n",
              "5. 536734\n",
              "\n",
              "\n"
            ],
            "text/plain": [
              "[1] 254598 138510 115335 495466 536734"
            ]
          },
          "metadata": {},
          "output_type": "display_data"
        },
        {
          "data": {
            "text/html": [
              "<table class=\"dataframe\">\n",
              "<caption>A matrix: 5 x 7 of type int</caption>\n",
              "<tbody>\n",
              "\t<tr><td>4</td><td>1</td><td>9</td><td>0</td><td>6</td><td>8</td><td>3</td></tr>\n",
              "\t<tr><td>2</td><td>3</td><td>6</td><td>9</td><td>1</td><td>5</td><td>4</td></tr>\n",
              "\t<tr><td>1</td><td>9</td><td>2</td><td>4</td><td>0</td><td>7</td><td>6</td></tr>\n",
              "\t<tr><td>8</td><td>1</td><td>6</td><td>7</td><td>9</td><td>2</td><td>3</td></tr>\n",
              "\t<tr><td>8</td><td>7</td><td>6</td><td>9</td><td>4</td><td>3</td><td>1</td></tr>\n",
              "</tbody>\n",
              "</table>\n"
            ],
            "text/latex": [
              "A matrix: 5 x 7 of type int\n",
              "\\begin{tabular}{lllllll}\n",
              "\t 4 & 1 & 9 & 0 & 6 & 8 & 3\\\\\n",
              "\t 2 & 3 & 6 & 9 & 1 & 5 & 4\\\\\n",
              "\t 1 & 9 & 2 & 4 & 0 & 7 & 6\\\\\n",
              "\t 8 & 1 & 6 & 7 & 9 & 2 & 3\\\\\n",
              "\t 8 & 7 & 6 & 9 & 4 & 3 & 1\\\\\n",
              "\\end{tabular}\n"
            ],
            "text/markdown": [
              "\n",
              "A matrix: 5 x 7 of type int\n",
              "\n",
              "| 4 | 1 | 9 | 0 | 6 | 8 | 3 |\n",
              "| 2 | 3 | 6 | 9 | 1 | 5 | 4 |\n",
              "| 1 | 9 | 2 | 4 | 0 | 7 | 6 |\n",
              "| 8 | 1 | 6 | 7 | 9 | 2 | 3 |\n",
              "| 8 | 7 | 6 | 9 | 4 | 3 | 1 |\n",
              "\n"
            ],
            "text/plain": [
              "     [,1] [,2] [,3] [,4] [,5] [,6] [,7]\n",
              "[1,] 4    1    9    0    6    8    3   \n",
              "[2,] 2    3    6    9    1    5    4   \n",
              "[3,] 1    9    2    4    0    7    6   \n",
              "[4,] 8    1    6    7    9    2    3   \n",
              "[5,] 8    7    6    9    4    3    1   "
            ]
          },
          "metadata": {},
          "output_type": "display_data"
        }
      ],
      "source": [
        "# generate all phone numbers without repeating digits\n",
        "all_phone_numbers <- permutations(10, 7, v = 0:9) #here 10 is the size of the vector\n",
        "\n",
        "# display 5 examples of phone numbers generated\n",
        "(n <- nrow(all_phone_numbers))\n",
        "(index <- sample(n, 5))\n",
        "all_phone_numbers[index,]"
      ]
    },
    {
      "cell_type": "markdown",
      "metadata": {},
      "source": [
        "Instead of using the numbers 1 through 10, the default, it uses what we provided through v: the digits 0 through 9.\n",
        "\n",
        "\n",
        "### _*Let's go to our earlier example*_\n",
        "\n",
        "To compute all possible ways we can choose two cards when the order matters, we type:\n"
      ]
    },
    {
      "cell_type": "code",
      "execution_count": 28,
      "metadata": {
        "vscode": {
          "languageId": "r"
        }
      },
      "outputs": [
        {
          "data": {
            "text/html": [
              "<table class=\"dataframe\">\n",
              "<caption>A matrix: 6 x 2 of type chr</caption>\n",
              "<tbody>\n",
              "\t<tr><td>Ace Clubs</td><td>Ace Diamonds  </td></tr>\n",
              "\t<tr><td>Ace Clubs</td><td>Ace Hearts    </td></tr>\n",
              "\t<tr><td>Ace Clubs</td><td>Ace Spades    </td></tr>\n",
              "\t<tr><td>Ace Clubs</td><td>Eight Clubs   </td></tr>\n",
              "\t<tr><td>Ace Clubs</td><td>Eight Diamonds</td></tr>\n",
              "\t<tr><td>Ace Clubs</td><td>Eight Hearts  </td></tr>\n",
              "</tbody>\n",
              "</table>\n"
            ],
            "text/latex": [
              "A matrix: 6 x 2 of type chr\n",
              "\\begin{tabular}{ll}\n",
              "\t Ace Clubs & Ace Diamonds  \\\\\n",
              "\t Ace Clubs & Ace Hearts    \\\\\n",
              "\t Ace Clubs & Ace Spades    \\\\\n",
              "\t Ace Clubs & Eight Clubs   \\\\\n",
              "\t Ace Clubs & Eight Diamonds\\\\\n",
              "\t Ace Clubs & Eight Hearts  \\\\\n",
              "\\end{tabular}\n"
            ],
            "text/markdown": [
              "\n",
              "A matrix: 6 x 2 of type chr\n",
              "\n",
              "| Ace Clubs | Ace Diamonds   |\n",
              "| Ace Clubs | Ace Hearts     |\n",
              "| Ace Clubs | Ace Spades     |\n",
              "| Ace Clubs | Eight Clubs    |\n",
              "| Ace Clubs | Eight Diamonds |\n",
              "| Ace Clubs | Eight Hearts   |\n",
              "\n"
            ],
            "text/plain": [
              "     [,1]      [,2]          \n",
              "[1,] Ace Clubs Ace Diamonds  \n",
              "[2,] Ace Clubs Ace Hearts    \n",
              "[3,] Ace Clubs Ace Spades    \n",
              "[4,] Ace Clubs Eight Clubs   \n",
              "[5,] Ace Clubs Eight Diamonds\n",
              "[6,] Ace Clubs Eight Hearts  "
            ]
          },
          "metadata": {},
          "output_type": "display_data"
        },
        {
          "data": {
            "text/html": [
              "2652"
            ],
            "text/latex": [
              "2652"
            ],
            "text/markdown": [
              "2652"
            ],
            "text/plain": [
              "[1] 2652"
            ]
          },
          "metadata": {},
          "output_type": "display_data"
        }
      ],
      "source": [
        "hands <- permutations(52, 2, v = deck)\n",
        "head(hands)\n",
        "nrow(hands) # number of possible ways to choose two cards when order matters"
      ]
    },
    {
      "cell_type": "markdown",
      "metadata": {},
      "source": [
        "This is a matrix with two columns and 2652 rows. With a matrix we can get the first and second cards like this:"
      ]
    },
    {
      "cell_type": "code",
      "execution_count": 29,
      "metadata": {
        "vscode": {
          "languageId": "r"
        }
      },
      "outputs": [],
      "source": [
        "first_card <- hands[,1]\n",
        "second_card <- hands[,2]"
      ]
    },
    {
      "cell_type": "markdown",
      "metadata": {},
      "source": [
        "Now the cases for which the first hand was a Queen can be computed like this:"
      ]
    },
    {
      "cell_type": "code",
      "execution_count": 30,
      "metadata": {
        "vscode": {
          "languageId": "r"
        }
      },
      "outputs": [
        {
          "data": {
            "text/html": [
              "<style>\n",
              ".list-inline {list-style: none; margin:0; padding: 0}\n",
              ".list-inline>li {display: inline-block}\n",
              ".list-inline>li:not(:last-child)::after {content: \"\\00b7\"; padding: 0 .5ex}\n",
              "</style>\n",
              "<ol class=list-inline><li>'Queen Diamonds'</li><li>'Queen Clubs'</li><li>'Queen Hearts'</li><li>'Queen Spades'</li></ol>\n"
            ],
            "text/latex": [
              "\\begin{enumerate*}\n",
              "\\item 'Queen Diamonds'\n",
              "\\item 'Queen Clubs'\n",
              "\\item 'Queen Hearts'\n",
              "\\item 'Queen Spades'\n",
              "\\end{enumerate*}\n"
            ],
            "text/markdown": [
              "1. 'Queen Diamonds'\n",
              "2. 'Queen Clubs'\n",
              "3. 'Queen Hearts'\n",
              "4. 'Queen Spades'\n",
              "\n",
              "\n"
            ],
            "text/plain": [
              "[1] \"Queen Diamonds\" \"Queen Clubs\"    \"Queen Hearts\"   \"Queen Spades\"  "
            ]
          },
          "metadata": {},
          "output_type": "display_data"
        },
        {
          "data": {
            "text/html": [
              "204"
            ],
            "text/latex": [
              "204"
            ],
            "text/markdown": [
              "204"
            ],
            "text/plain": [
              "[1] 204"
            ]
          },
          "metadata": {},
          "output_type": "display_data"
        },
        {
          "data": {
            "text/html": [
              "0.0769230769230769"
            ],
            "text/latex": [
              "0.0769230769230769"
            ],
            "text/markdown": [
              "0.0769230769230769"
            ],
            "text/plain": [
              "[1] 0.07692308"
            ]
          },
          "metadata": {},
          "output_type": "display_data"
        },
        {
          "data": {
            "text/html": [
              "0.0769230769230769"
            ],
            "text/latex": [
              "0.0769230769230769"
            ],
            "text/markdown": [
              "0.0769230769230769"
            ],
            "text/plain": [
              "[1] 0.07692308"
            ]
          },
          "metadata": {},
          "output_type": "display_data"
        }
      ],
      "source": [
        "(queens <- paste(\"Queen\", suits))\n",
        "sum(first_card %in% queens)\n",
        "\n",
        "\n",
        "mean(first_card %in% queens)\n",
        "4/52 #prob of a queen card"
      ]
    },
    {
      "cell_type": "markdown",
      "metadata": {},
      "source": [
        "To get the conditional probability, we compute what fraction of these have a Queen in the second card"
      ]
    },
    {
      "cell_type": "code",
      "execution_count": 31,
      "metadata": {
        "vscode": {
          "languageId": "r"
        }
      },
      "outputs": [
        {
          "data": {
            "text/html": [
              "0.0588235294117647"
            ],
            "text/latex": [
              "0.0588235294117647"
            ],
            "text/markdown": [
              "0.0588235294117647"
            ],
            "text/plain": [
              "[1] 0.05882353"
            ]
          },
          "metadata": {},
          "output_type": "display_data"
        },
        {
          "data": {
            "text/html": [
              "0.0588235294117647"
            ],
            "text/latex": [
              "0.0588235294117647"
            ],
            "text/markdown": [
              "0.0588235294117647"
            ],
            "text/plain": [
              "[1] 0.05882353"
            ]
          },
          "metadata": {},
          "output_type": "display_data"
        }
      ],
      "source": [
        "# given that first card is Queen, how many also had second card as Queen\n",
        "sum(first_card%in%queens & second_card%in%queens) / sum(first_card%in%queens)\n",
        "3/51"
      ]
    },
    {
      "cell_type": "markdown",
      "metadata": {},
      "source": [
        "which is exactly 3/51, as we had already deduced. Notice that the code above is equivalent to:"
      ]
    },
    {
      "cell_type": "code",
      "execution_count": 32,
      "metadata": {
        "vscode": {
          "languageId": "r"
        }
      },
      "outputs": [
        {
          "data": {
            "text/html": [
              "0.0588235294117647"
            ],
            "text/latex": [
              "0.0588235294117647"
            ],
            "text/markdown": [
              "0.0588235294117647"
            ],
            "text/plain": [
              "[1] 0.05882353"
            ]
          },
          "metadata": {},
          "output_type": "display_data"
        }
      ],
      "source": [
        "mean(first_card%in%queens & second_card%in%queens) / mean(first_card%in%queens)"
      ]
    },
    {
      "cell_type": "markdown",
      "metadata": {},
      "source": [
        "# Example 3: Blackjack\n",
        "\n",
        "In Blackjack if you get an Ace, and a face card or ten in the first draw, it is called a Natural 21 and you win automatically. If we wanted to compute the probability of this happening, we would enumerate the combinations, not the permutations, since the order does not matter.\n",
        "\n",
        "So to compute the probability of a Natural 21 in Blackjack, we can do this:"
      ]
    },
    {
      "cell_type": "code",
      "execution_count": 33,
      "metadata": {
        "vscode": {
          "languageId": "r"
        }
      },
      "outputs": [
        {
          "data": {
            "text/html": [
              "<style>\n",
              ".list-inline {list-style: none; margin:0; padding: 0}\n",
              ".list-inline>li {display: inline-block}\n",
              ".list-inline>li:not(:last-child)::after {content: \"\\00b7\"; padding: 0 .5ex}\n",
              "</style>\n",
              "<ol class=list-inline><li>'Ace Diamonds'</li><li>'Ace Clubs'</li><li>'Ace Hearts'</li><li>'Ace Spades'</li></ol>\n"
            ],
            "text/latex": [
              "\\begin{enumerate*}\n",
              "\\item 'Ace Diamonds'\n",
              "\\item 'Ace Clubs'\n",
              "\\item 'Ace Hearts'\n",
              "\\item 'Ace Spades'\n",
              "\\end{enumerate*}\n"
            ],
            "text/markdown": [
              "1. 'Ace Diamonds'\n",
              "2. 'Ace Clubs'\n",
              "3. 'Ace Hearts'\n",
              "4. 'Ace Spades'\n",
              "\n",
              "\n"
            ],
            "text/plain": [
              "[1] \"Ace Diamonds\" \"Ace Clubs\"    \"Ace Hearts\"   \"Ace Spades\"  "
            ]
          },
          "metadata": {},
          "output_type": "display_data"
        },
        {
          "data": {
            "text/html": [
              "<table class=\"dataframe\">\n",
              "<caption>A data.frame: 16 x 2</caption>\n",
              "<thead>\n",
              "\t<tr><th scope=col>number</th><th scope=col>suit</th></tr>\n",
              "\t<tr><th scope=col>&lt;fct&gt;</th><th scope=col>&lt;fct&gt;</th></tr>\n",
              "</thead>\n",
              "<tbody>\n",
              "\t<tr><td>King </td><td>Diamonds</td></tr>\n",
              "\t<tr><td>Queen</td><td>Diamonds</td></tr>\n",
              "\t<tr><td>Jack </td><td>Diamonds</td></tr>\n",
              "\t<tr><td>Ten  </td><td>Diamonds</td></tr>\n",
              "\t<tr><td>King </td><td>Clubs   </td></tr>\n",
              "\t<tr><td>Queen</td><td>Clubs   </td></tr>\n",
              "\t<tr><td>Jack </td><td>Clubs   </td></tr>\n",
              "\t<tr><td>Ten  </td><td>Clubs   </td></tr>\n",
              "\t<tr><td>King </td><td>Hearts  </td></tr>\n",
              "\t<tr><td>Queen</td><td>Hearts  </td></tr>\n",
              "\t<tr><td>Jack </td><td>Hearts  </td></tr>\n",
              "\t<tr><td>Ten  </td><td>Hearts  </td></tr>\n",
              "\t<tr><td>King </td><td>Spades  </td></tr>\n",
              "\t<tr><td>Queen</td><td>Spades  </td></tr>\n",
              "\t<tr><td>Jack </td><td>Spades  </td></tr>\n",
              "\t<tr><td>Ten  </td><td>Spades  </td></tr>\n",
              "</tbody>\n",
              "</table>\n"
            ],
            "text/latex": [
              "A data.frame: 16 x 2\n",
              "\\begin{tabular}{ll}\n",
              " number & suit\\\\\n",
              " <fct> & <fct>\\\\\n",
              "\\hline\n",
              "\t King  & Diamonds\\\\\n",
              "\t Queen & Diamonds\\\\\n",
              "\t Jack  & Diamonds\\\\\n",
              "\t Ten   & Diamonds\\\\\n",
              "\t King  & Clubs   \\\\\n",
              "\t Queen & Clubs   \\\\\n",
              "\t Jack  & Clubs   \\\\\n",
              "\t Ten   & Clubs   \\\\\n",
              "\t King  & Hearts  \\\\\n",
              "\t Queen & Hearts  \\\\\n",
              "\t Jack  & Hearts  \\\\\n",
              "\t Ten   & Hearts  \\\\\n",
              "\t King  & Spades  \\\\\n",
              "\t Queen & Spades  \\\\\n",
              "\t Jack  & Spades  \\\\\n",
              "\t Ten   & Spades  \\\\\n",
              "\\end{tabular}\n"
            ],
            "text/markdown": [
              "\n",
              "A data.frame: 16 x 2\n",
              "\n",
              "| number &lt;fct&gt; | suit &lt;fct&gt; |\n",
              "|---|---|\n",
              "| King  | Diamonds |\n",
              "| Queen | Diamonds |\n",
              "| Jack  | Diamonds |\n",
              "| Ten   | Diamonds |\n",
              "| King  | Clubs    |\n",
              "| Queen | Clubs    |\n",
              "| Jack  | Clubs    |\n",
              "| Ten   | Clubs    |\n",
              "| King  | Hearts   |\n",
              "| Queen | Hearts   |\n",
              "| Jack  | Hearts   |\n",
              "| Ten   | Hearts   |\n",
              "| King  | Spades   |\n",
              "| Queen | Spades   |\n",
              "| Jack  | Spades   |\n",
              "| Ten   | Spades   |\n",
              "\n"
            ],
            "text/plain": [
              "   number suit    \n",
              "1  King   Diamonds\n",
              "2  Queen  Diamonds\n",
              "3  Jack   Diamonds\n",
              "4  Ten    Diamonds\n",
              "5  King   Clubs   \n",
              "6  Queen  Clubs   \n",
              "7  Jack   Clubs   \n",
              "8  Ten    Clubs   \n",
              "9  King   Hearts  \n",
              "10 Queen  Hearts  \n",
              "11 Jack   Hearts  \n",
              "12 Ten    Hearts  \n",
              "13 King   Spades  \n",
              "14 Queen  Spades  \n",
              "15 Jack   Spades  \n",
              "16 Ten    Spades  "
            ]
          },
          "metadata": {},
          "output_type": "display_data"
        },
        {
          "data": {
            "text/html": [
              "0.0482654600301659"
            ],
            "text/latex": [
              "0.0482654600301659"
            ],
            "text/markdown": [
              "0.0482654600301659"
            ],
            "text/plain": [
              "[1] 0.04826546"
            ]
          },
          "metadata": {},
          "output_type": "display_data"
        }
      ],
      "source": [
        "# generate Aces\n",
        "(aces <- paste(\"Ace\", suits))\n",
        "\n",
        "# generate face cards and tens together\n",
        "facecard <- c(\"King\", \"Queen\", \"Jack\",\"Ten\")\n",
        "(facecard <- expand.grid(number = facecard, suit = suits))\n",
        "facecard <- paste(facecard$number, facecard$suit)\n",
        "\n",
        "# compute number of Natural 21 hands\n",
        "hands <- combinations(52, 2, v = deck)\n",
        "mean(hands[,1] %in% aces & hands[,2] %in% facecard)"
      ]
    },
    {
      "cell_type": "markdown",
      "metadata": {},
      "source": [
        "In the last line, we assume the Ace comes first. This is only because we know the way combination enumerates possibilities and it will list this case first. But to be safe, we could have written this and produced the same answer:"
      ]
    },
    {
      "cell_type": "code",
      "execution_count": 34,
      "metadata": {
        "vscode": {
          "languageId": "r"
        }
      },
      "outputs": [
        {
          "data": {
            "text/html": [
              "0.0482654600301659"
            ],
            "text/latex": [
              "0.0482654600301659"
            ],
            "text/markdown": [
              "0.0482654600301659"
            ],
            "text/plain": [
              "[1] 0.04826546"
            ]
          },
          "metadata": {},
          "output_type": "display_data"
        }
      ],
      "source": [
        "# first card ace, second card facecard/ten OR second card ace, first card facecard/ten\n",
        "mean((hands[,1] %in% aces & hands[,2] %in% facecard) |\n",
        "       (hands[,2] %in% aces & hands[,1] %in% facecard)) "
      ]
    },
    {
      "cell_type": "markdown",
      "metadata": {},
      "source": [
        "# Bayes' Rule\n",
        "\n",
        "# Example 3: Disease Testing (this is Fictional)\n",
        "\n",
        "_Suppose we have a test for the flu that is positive 90% of the time when tested on a flu patient , and is negative 95% of the time when tested on a healthy person . We also know that the flu is affecting about 1% of the population. You go to the doctor and test positive. What is the chance that you truly have the flu?_\n",
        "\n",
        "$(P(test + | flu) = 0.9)$\n",
        "$(P(test - | no \\;flu) = 0.95)$\n",
        "$P(flu)=0.01$\n",
        "\n",
        "You can answer this question directly using Bayes' theorem, but we'll tackle this a bit differently. We'll create a hypothetical population of 100,000 people, and see if we can figure this out."
      ]
    },
    {
      "cell_type": "code",
      "execution_count": 35,
      "metadata": {
        "vscode": {
          "languageId": "r"
        }
      },
      "outputs": [],
      "source": [
        "# 0.01 probability of having flu ('Yes')\n",
        "flu <- sample(c('No','Yes'), size=100000, replace=TRUE,prob=c(0.99,0.01))\n",
        "test <- rep(NA, 100000) # create a dummy variable first\n",
        "# test results for people without flu ('No') and with flu ('Yes')\n",
        "test[flu=='No'] <- sample(c('Neg','Pos'), size=sum(flu=='No'), replace=TRUE, prob=c(0.95,0.05))\n",
        "test[flu=='Yes'] <- sample(c('Neg','Pos'), size=sum(flu=='Yes'), replace=TRUE,prob=c(0.1, 0.9))"
      ]
    },
    {
      "cell_type": "markdown",
      "metadata": {},
      "source": [
        "In the above code we first simulate who has the flu, given on average 1% of the population gets the flu. We then find out whom among those without the flu would test positive, based on $P(test - | no flu) =0.95$. \n",
        "Recall that the when considering a conditioning event, the conditioning event is considered the sample space, and so all the laws of probability hold within that space.\n",
        "\n",
        "In particular:\n",
        "\n",
        "\n",
        "$P(test + | no \\;flu) = 1 - P(test - | no \\;flu) = 0.05$\n",
        "\n",
        "\n",
        "We do a similar computation for the people with flu.\n",
        "\n",
        "The question we are asking, _what is the chance that you have the flu given that you tested positive_, can then be directly answered as:"
      ]
    },
    {
      "cell_type": "code",
      "execution_count": 36,
      "metadata": {
        "vscode": {
          "languageId": "r"
        }
      },
      "outputs": [
        {
          "data": {
            "text/html": [
              "0.15973779541142"
            ],
            "text/latex": [
              "0.15973779541142"
            ],
            "text/markdown": [
              "0.15973779541142"
            ],
            "text/plain": [
              "[1] 0.1597378"
            ]
          },
          "metadata": {},
          "output_type": "display_data"
        }
      ],
      "source": [
        "mean(flu[test=='Pos']=='Yes')"
      ]
    },
    {
      "cell_type": "markdown",
      "metadata": {},
      "source": [
        "Even though the test is pretty good, the chance that we actually have the flu even if we test positive is actually pretty small. This is because the chance of actually getting the flu is pretty small in the first place. However, if we look at how much our _chance of having the flu changed with a positive test_, it is quite large:"
      ]
    },
    {
      "cell_type": "code",
      "execution_count": 37,
      "metadata": {
        "vscode": {
          "languageId": "r"
        }
      },
      "outputs": [
        {
          "data": {
            "text/html": [
              "15.7843671355158"
            ],
            "text/latex": [
              "15.7843671355158"
            ],
            "text/markdown": [
              "15.7843671355158"
            ],
            "text/plain": [
              "[1] 15.78437"
            ]
          },
          "metadata": {},
          "output_type": "display_data"
        }
      ],
      "source": [
        "mean(flu[test=='Pos']=='Yes')/mean(flu=='Yes')"
      ]
    },
    {
      "cell_type": "markdown",
      "metadata": {},
      "source": [
        "That is, the knowledge that we tested positive increased our chance of truly having the flu 15-fold! A constant issue in medicine is if we should address the absolute increase in risk (1% to 15%) or the relative risk (15-fold) when deciding on best clinical practice.\n",
        "\n",
        "If we calculate the probability using Bayes' theorem, we get a very similar result:"
      ]
    },
    {
      "cell_type": "markdown",
      "metadata": {},
      "source": [
        "P(flu=Yes|test+) = P(test+|flu=Yes)P(flu=Yes)/P(test+)\n",
        "\n",
        "=P(test+|flu=Yes)P(flu=Yes)/[P(test+|flu=Yes)P(flu=Yes)+P(test+|flu=No)P(flu=No)]\n",
        "\n",
        "= 0.9 x 0.01 / (0.9 x 0.01 + 0.05 x 0.99)\n",
        "\n",
        "= 0.1538"
      ]
    },
    {
      "cell_type": "markdown",
      "metadata": {},
      "source": [
        "# Conditional Distributions \n",
        "\n",
        "Text adapted from chapter 25 of Resampling: The New Statistics.\n",
        "\n",
        "The importance of accurate testing is critical for understanding of disease in a community. We can frame the classic screening for a disease question for a timely example like COVID-19. This is a relevant example because when performing a test for COVID-19, the prevalence of false positives (positive test result when the person does not have COVID-19) and false negatives (negative test result when the person does have COVID-19) is critical for the overall effectiveness of the study. \n",
        "\n",
        "Let's say we perform a test for COVID-19 in a population of 100,000. The estimated prevalence of COVID-19 in this population is 5,000 out of the population of 100,000. When a person has COVID-19, 95% of the time the test comes back positive (or a 5% false-negative rate). When a person does not have COVID-19, 5% of the time the test comes back positive for COVID-19 (or a 5% false-positive rate).\n",
        "\n",
        "(Visual Reference:<https://towardsdatascience.com/interactive-visualizing-covid-19-test-accuracy-4a24b4e1ffbf>)\n"
      ]
    },
    {
      "cell_type": "code",
      "execution_count": 38,
      "metadata": {
        "vscode": {
          "languageId": "r"
        }
      },
      "outputs": [
        {
          "name": "stderr",
          "output_type": "stream",
          "text": [
            "\n",
            "Attaching package: 'dplyr'\n",
            "\n",
            "\n",
            "The following objects are masked from 'package:stats':\n",
            "\n",
            "    filter, lag\n",
            "\n",
            "\n",
            "The following objects are masked from 'package:base':\n",
            "\n",
            "    intersect, setdiff, setequal, union\n",
            "\n",
            "\n"
          ]
        }
      ],
      "source": [
        "library(dplyr)\n",
        "library(ggplot2)\n",
        "library(knitr)\n",
        "\n",
        "knitr::opts_chunk$set(tidy.opts=list(width.cutoff=60),tidy=TRUE)"
      ]
    },
    {
      "cell_type": "code",
      "execution_count": 39,
      "metadata": {
        "vscode": {
          "languageId": "r"
        }
      },
      "outputs": [
        {
          "name": "stderr",
          "output_type": "stream",
          "text": [
            "-- \u001b[1mAttaching packages\u001b[22m --------------------------------------- tidyverse 1.3.2 --\n",
            "\u001b[32mv\u001b[39m \u001b[34mtibble \u001b[39m 3.1.8     \u001b[32mv\u001b[39m \u001b[34mpurrr  \u001b[39m 1.0.1\n",
            "\u001b[32mv\u001b[39m \u001b[34mtidyr  \u001b[39m 1.3.0     \u001b[32mv\u001b[39m \u001b[34mstringr\u001b[39m 1.5.0\n",
            "\u001b[32mv\u001b[39m \u001b[34mreadr  \u001b[39m 2.1.4     \u001b[32mv\u001b[39m \u001b[34mforcats\u001b[39m 1.0.0\n",
            "-- \u001b[1mConflicts\u001b[22m ------------------------------------------ tidyverse_conflicts() --\n",
            "\u001b[31mx\u001b[39m \u001b[34mdplyr\u001b[39m::\u001b[32mfilter()\u001b[39m masks \u001b[34mstats\u001b[39m::filter()\n",
            "\u001b[31mx\u001b[39m \u001b[34mdplyr\u001b[39m::\u001b[32mlag()\u001b[39m    masks \u001b[34mstats\u001b[39m::lag()\n"
          ]
        }
      ],
      "source": [
        "library(tidyverse)\n",
        "\n",
        "# this function will return the appropriate probabilities\n",
        "# that you need to answer the questions\n",
        "# while you don't need to write this yourself, it's encouraged to understandwhat is happening with this code\n",
        "\n",
        "# first and foremost, make sure you figure out the values to pass to the function\n",
        "\n",
        "func_testing <- function(num_people, \n",
        "                         prop_covid, \n",
        "                         posrate_covid, \n",
        "                         posrate_nocovid){\n",
        "    \n",
        "# make a dataframe by getting uniform random variables \n",
        "    # for population and positivity\n",
        "  \n",
        "df <- tibble(pop_rv = runif(num_people), \n",
        "             pos_rv = runif(num_people))\n",
        "\n",
        "# set a new variable to be if the person has covid\n",
        "# base on proportion of covid population\n",
        "\n",
        "df <- df %>% \n",
        "    mutate(covid_yes = if_else(pop_rv <= prop_covid, TRUE, FALSE))\n",
        "\n",
        "# prob covid, counts all the number of people with covid,\n",
        "# and divides by whole population\n",
        "# this value should be close to the prob_covid input\n",
        "\n",
        "prob_covid <- df %>% \n",
        "    summarize(sum(covid_yes)) %>% \n",
        "    pull() / num_people\n",
        "\n",
        "# clearly prob_nocovid is what remains of the probability space\n",
        "# only two optinos for this example\n",
        "\n",
        "prob_nocovid <- 1 - prop_covid\n",
        "\n",
        "\n",
        "# here we add the test positive variable based on the results\n",
        "# of the random variable for positivity\n",
        "# note that the result is different if you have covid or don't\n",
        "\n",
        "df <- df %>% \n",
        "    mutate(test_positive = \n",
        "               case_when( covid_yes == TRUE & pos_rv <= posrate_covid ~ TRUE, covid_yes == FALSE & pos_rv <= posrate_nocovid ~ TRUE, TRUE ~ FALSE))\n",
        "\n",
        "# here is the magic of tidyverse\n",
        "# get back a summarize of the mean positive test for\n",
        "# the people who have covid, and the people who don't\n",
        "\n",
        "temp  <- df %>% \n",
        "    group_by(covid_yes) %>% \n",
        "    summarise(mean_positive = mean(test_positive), .groups = 'keep')\n",
        "\n",
        "# we pull those values into variables\n",
        "\n",
        "prob_pos_given_nocovid = temp[1,2] %>% pull() # positive given covid\n",
        "prob_pos_given_covid = temp[2,2] %>% pull() # positive given no covid\n",
        "\n",
        "# and we return the result for you as a list\n",
        "\n",
        "return (list('prob_covid' = prob_covid, \n",
        "             'prob_nocovid' = prob_nocovid, \n",
        "             'prob_pos_given_covid' = prob_pos_given_covid, \n",
        "             'prob_pos_given_nocovid' = prob_pos_given_nocovid)\n",
        ")\n",
        "}"
      ]
    },
    {
      "cell_type": "markdown",
      "metadata": {},
      "source": [
        "a. (_1 point_) What is your first guess *no calculating or simulating* - what is the chance that a person from the referenced population has COVID-19 given that they get a positive test result, assuming you know nothing about their symptoms or signs?\n",
        "\n",
        "\n",
        "b. (_10 points_) Use the function described above to build your simulation to determine a numerical solution to part A - what is the chance that a person from the referenced population has COVID-19 given that they get a positive test result, assuming you know nothing about their symptoms or signs?"
      ]
    },
    {
      "cell_type": "code",
      "execution_count": 40,
      "metadata": {
        "vscode": {
          "languageId": "r"
        }
      },
      "outputs": [
        {
          "data": {
            "text/html": [
              "0.496918247239623"
            ],
            "text/latex": [
              "0.496918247239623"
            ],
            "text/markdown": [
              "0.496918247239623"
            ],
            "text/plain": [
              "[1] 0.4969182"
            ]
          },
          "metadata": {},
          "output_type": "display_data"
        }
      ],
      "source": [
        "num_people = 100000\n",
        "prop_covid = 5000 / num_people\n",
        "pos_covid = 0.95\n",
        "pos_nocovid = 0.05\n",
        "\n",
        "prob_covid_given_positive <- function(num_people, prop_covid, pos_covid, pos_nocovid){\n",
        "    list_result <- func_testing(num_people, prop_covid, pos_covid, pos_nocovid)\n",
        "    \n",
        "    answer1 <- list_result$prob_covid * list_result$prob_pos_given_covid /\n",
        "        ((list_result$prob_pos_given_covid * list_result$prob_covid) \n",
        "         + (list_result$prob_pos_given_nocovid * list_result$prob_nocovid))\n",
        "    \n",
        "    return (answer1)\n",
        "}\n",
        "\n",
        "prob_covid_given_positive(num_people, prop_covid, pos_covid, pos_nocovid)"
      ]
    },
    {
      "cell_type": "markdown",
      "metadata": {},
      "source": [
        "c. (_10 points_) This [clinical oncology article](https://www.clinicaloncology.com/COVID-19/Article/07-20/False-Negatives-Found-If-COVID-19-Testing-Done-Too-Soon/58781) references that for a particular test that the case false-negative rate was found to be about 40% when a test was done early on during symptoms. Simulate the chance that a random person has COVID-19 given that they get a negative test result. The false-positive rate is 10%, the false-negative rate is 40%, and the prevalence of COVID-19 in the population is 10,000/100,000."
      ]
    },
    {
      "cell_type": "code",
      "execution_count": 41,
      "metadata": {
        "vscode": {
          "languageId": "r"
        }
      },
      "outputs": [
        {
          "data": {
            "text/html": [
              "0.0481450410938219"
            ],
            "text/latex": [
              "0.0481450410938219"
            ],
            "text/markdown": [
              "0.0481450410938219"
            ],
            "text/plain": [
              "[1] 0.04814504"
            ]
          },
          "metadata": {},
          "output_type": "display_data"
        }
      ],
      "source": [
        "num_people = 100000\n",
        "prop_covid = 10000 / num_people\n",
        "pos_covid = 0.6\n",
        "pos_nocovid = 0.1\n",
        "\n",
        "prob_covid_given_negative <- function(num_people, prop_covid, pos_covid, pos_nocovid){\n",
        "    list_result <- func_testing(num_people, prop_covid, pos_covid, pos_nocovid)\n",
        "    \n",
        "    answer1 <- list_result$prob_covid * (1 - list_result$prob_pos_given_covid) / \n",
        "        (((1 - list_result$prob_pos_given_covid) * list_result$prob_covid) \n",
        "         + ((1 - list_result$prob_pos_given_nocovid) * list_result$prob_nocovid))\n",
        "    \n",
        "    return (answer1)\n",
        "}\n",
        "\n",
        "prob_covid_given_negative(num_people, prop_covid, pos_covid, pos_nocovid)\n"
      ]
    }
  ],
  "metadata": {
    "kernelspec": {
      "display_name": "R",
      "language": "R",
      "name": "ir"
    },
    "language_info": {
      "codemirror_mode": "r",
      "file_extension": ".r",
      "mimetype": "text/x-r-source",
      "name": "R",
      "pygments_lexer": "r",
      "version": "4.2.2"
    }
  },
  "nbformat": 4,
  "nbformat_minor": 4
}
